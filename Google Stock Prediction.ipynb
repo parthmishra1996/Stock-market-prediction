{
 "cells": [
  {
   "cell_type": "markdown",
   "metadata": {},
   "source": [
    "# Google Stock Price Prediction"
   ]
  },
  {
   "cell_type": "markdown",
   "metadata": {},
   "source": [
    "## Preparing data "
   ]
  },
  {
   "cell_type": "code",
   "execution_count": 23,
   "metadata": {},
   "outputs": [],
   "source": [
    "import numpy as np\n",
    "import pandas as pd\n",
    "import matplotlib.pyplot as plt\n",
    "from sklearn.preprocessing import MinMaxScaler, StandardScaler "
   ]
  },
  {
   "cell_type": "code",
   "execution_count": 24,
   "metadata": {},
   "outputs": [],
   "source": [
    "df = pd.read_csv('GOOG.csv', date_parser = True) #Get stock data in csv format"
   ]
  },
  {
   "cell_type": "code",
   "execution_count": 25,
   "metadata": {
    "scrolled": true
   },
   "outputs": [
    {
     "data": {
      "text/plain": [
       "(4104, 7)"
      ]
     },
     "execution_count": 25,
     "metadata": {},
     "output_type": "execute_result"
    }
   ],
   "source": [
    "df.shape"
   ]
  },
  {
   "cell_type": "code",
   "execution_count": 26,
   "metadata": {
    "scrolled": true
   },
   "outputs": [
    {
     "data": {
      "text/html": [
       "<div>\n",
       "<style scoped>\n",
       "    .dataframe tbody tr th:only-of-type {\n",
       "        vertical-align: middle;\n",
       "    }\n",
       "\n",
       "    .dataframe tbody tr th {\n",
       "        vertical-align: top;\n",
       "    }\n",
       "\n",
       "    .dataframe thead th {\n",
       "        text-align: right;\n",
       "    }\n",
       "</style>\n",
       "<table border=\"1\" class=\"dataframe\">\n",
       "  <thead>\n",
       "    <tr style=\"text-align: right;\">\n",
       "      <th></th>\n",
       "      <th>Date</th>\n",
       "      <th>Open</th>\n",
       "      <th>High</th>\n",
       "      <th>Low</th>\n",
       "      <th>Close</th>\n",
       "      <th>Adj Close</th>\n",
       "      <th>Volume</th>\n",
       "    </tr>\n",
       "  </thead>\n",
       "  <tbody>\n",
       "    <tr>\n",
       "      <th>0</th>\n",
       "      <td>2004-08-19</td>\n",
       "      <td>49.813286</td>\n",
       "      <td>51.835709</td>\n",
       "      <td>47.800831</td>\n",
       "      <td>49.982655</td>\n",
       "      <td>49.982655</td>\n",
       "      <td>44871300</td>\n",
       "    </tr>\n",
       "    <tr>\n",
       "      <th>1</th>\n",
       "      <td>2004-08-20</td>\n",
       "      <td>50.316402</td>\n",
       "      <td>54.336334</td>\n",
       "      <td>50.062355</td>\n",
       "      <td>53.952770</td>\n",
       "      <td>53.952770</td>\n",
       "      <td>22942800</td>\n",
       "    </tr>\n",
       "    <tr>\n",
       "      <th>2</th>\n",
       "      <td>2004-08-23</td>\n",
       "      <td>55.168217</td>\n",
       "      <td>56.528118</td>\n",
       "      <td>54.321388</td>\n",
       "      <td>54.495735</td>\n",
       "      <td>54.495735</td>\n",
       "      <td>18342800</td>\n",
       "    </tr>\n",
       "    <tr>\n",
       "      <th>3</th>\n",
       "      <td>2004-08-24</td>\n",
       "      <td>55.412300</td>\n",
       "      <td>55.591629</td>\n",
       "      <td>51.591621</td>\n",
       "      <td>52.239193</td>\n",
       "      <td>52.239193</td>\n",
       "      <td>15319700</td>\n",
       "    </tr>\n",
       "    <tr>\n",
       "      <th>4</th>\n",
       "      <td>2004-08-25</td>\n",
       "      <td>52.284027</td>\n",
       "      <td>53.798351</td>\n",
       "      <td>51.746044</td>\n",
       "      <td>52.802086</td>\n",
       "      <td>52.802086</td>\n",
       "      <td>9232100</td>\n",
       "    </tr>\n",
       "    <tr>\n",
       "      <th>...</th>\n",
       "      <td>...</td>\n",
       "      <td>...</td>\n",
       "      <td>...</td>\n",
       "      <td>...</td>\n",
       "      <td>...</td>\n",
       "      <td>...</td>\n",
       "      <td>...</td>\n",
       "    </tr>\n",
       "    <tr>\n",
       "      <th>3864</th>\n",
       "      <td>2019-12-24</td>\n",
       "      <td>1348.500000</td>\n",
       "      <td>1350.260010</td>\n",
       "      <td>1342.780029</td>\n",
       "      <td>1343.560059</td>\n",
       "      <td>1343.560059</td>\n",
       "      <td>347500</td>\n",
       "    </tr>\n",
       "    <tr>\n",
       "      <th>3865</th>\n",
       "      <td>2019-12-26</td>\n",
       "      <td>1346.170044</td>\n",
       "      <td>1361.327026</td>\n",
       "      <td>1344.469971</td>\n",
       "      <td>1360.400024</td>\n",
       "      <td>1360.400024</td>\n",
       "      <td>667500</td>\n",
       "    </tr>\n",
       "    <tr>\n",
       "      <th>3866</th>\n",
       "      <td>2019-12-27</td>\n",
       "      <td>1362.989990</td>\n",
       "      <td>1364.530029</td>\n",
       "      <td>1349.310059</td>\n",
       "      <td>1351.890015</td>\n",
       "      <td>1351.890015</td>\n",
       "      <td>1038400</td>\n",
       "    </tr>\n",
       "    <tr>\n",
       "      <th>3867</th>\n",
       "      <td>2019-12-30</td>\n",
       "      <td>1350.000000</td>\n",
       "      <td>1353.000000</td>\n",
       "      <td>1334.020020</td>\n",
       "      <td>1336.140015</td>\n",
       "      <td>1336.140015</td>\n",
       "      <td>1050900</td>\n",
       "    </tr>\n",
       "    <tr>\n",
       "      <th>3868</th>\n",
       "      <td>2019-12-31</td>\n",
       "      <td>1330.109985</td>\n",
       "      <td>1338.000000</td>\n",
       "      <td>1329.084961</td>\n",
       "      <td>1337.020020</td>\n",
       "      <td>1337.020020</td>\n",
       "      <td>961800</td>\n",
       "    </tr>\n",
       "  </tbody>\n",
       "</table>\n",
       "<p>3869 rows × 7 columns</p>\n",
       "</div>"
      ],
      "text/plain": [
       "            Date         Open         High          Low        Close  \\\n",
       "0     2004-08-19    49.813286    51.835709    47.800831    49.982655   \n",
       "1     2004-08-20    50.316402    54.336334    50.062355    53.952770   \n",
       "2     2004-08-23    55.168217    56.528118    54.321388    54.495735   \n",
       "3     2004-08-24    55.412300    55.591629    51.591621    52.239193   \n",
       "4     2004-08-25    52.284027    53.798351    51.746044    52.802086   \n",
       "...          ...          ...          ...          ...          ...   \n",
       "3864  2019-12-24  1348.500000  1350.260010  1342.780029  1343.560059   \n",
       "3865  2019-12-26  1346.170044  1361.327026  1344.469971  1360.400024   \n",
       "3866  2019-12-27  1362.989990  1364.530029  1349.310059  1351.890015   \n",
       "3867  2019-12-30  1350.000000  1353.000000  1334.020020  1336.140015   \n",
       "3868  2019-12-31  1330.109985  1338.000000  1329.084961  1337.020020   \n",
       "\n",
       "        Adj Close    Volume  \n",
       "0       49.982655  44871300  \n",
       "1       53.952770  22942800  \n",
       "2       54.495735  18342800  \n",
       "3       52.239193  15319700  \n",
       "4       52.802086   9232100  \n",
       "...           ...       ...  \n",
       "3864  1343.560059    347500  \n",
       "3865  1360.400024    667500  \n",
       "3866  1351.890015   1038400  \n",
       "3867  1336.140015   1050900  \n",
       "3868  1337.020020    961800  \n",
       "\n",
       "[3869 rows x 7 columns]"
      ]
     },
     "execution_count": 26,
     "metadata": {},
     "output_type": "execute_result"
    }
   ],
   "source": [
    "# We will use all the data till 1st Jan 2020 as training data the rest will be the test data\n",
    "train_set = df[df['Date'] < '2020-01-01'].copy() \n",
    "train_set"
   ]
  },
  {
   "cell_type": "code",
   "execution_count": 27,
   "metadata": {},
   "outputs": [
    {
     "data": {
      "text/html": [
       "<div>\n",
       "<style scoped>\n",
       "    .dataframe tbody tr th:only-of-type {\n",
       "        vertical-align: middle;\n",
       "    }\n",
       "\n",
       "    .dataframe tbody tr th {\n",
       "        vertical-align: top;\n",
       "    }\n",
       "\n",
       "    .dataframe thead th {\n",
       "        text-align: right;\n",
       "    }\n",
       "</style>\n",
       "<table border=\"1\" class=\"dataframe\">\n",
       "  <thead>\n",
       "    <tr style=\"text-align: right;\">\n",
       "      <th></th>\n",
       "      <th>Date</th>\n",
       "      <th>Open</th>\n",
       "      <th>High</th>\n",
       "      <th>Low</th>\n",
       "      <th>Close</th>\n",
       "      <th>Adj Close</th>\n",
       "      <th>Volume</th>\n",
       "    </tr>\n",
       "  </thead>\n",
       "  <tbody>\n",
       "    <tr>\n",
       "      <th>3869</th>\n",
       "      <td>2020-01-02</td>\n",
       "      <td>1341.550049</td>\n",
       "      <td>1368.140015</td>\n",
       "      <td>1341.550049</td>\n",
       "      <td>1367.369995</td>\n",
       "      <td>1367.369995</td>\n",
       "      <td>1406600</td>\n",
       "    </tr>\n",
       "    <tr>\n",
       "      <th>3870</th>\n",
       "      <td>2020-01-03</td>\n",
       "      <td>1347.859985</td>\n",
       "      <td>1372.500000</td>\n",
       "      <td>1345.543945</td>\n",
       "      <td>1360.660034</td>\n",
       "      <td>1360.660034</td>\n",
       "      <td>1186400</td>\n",
       "    </tr>\n",
       "    <tr>\n",
       "      <th>3871</th>\n",
       "      <td>2020-01-06</td>\n",
       "      <td>1350.000000</td>\n",
       "      <td>1396.500000</td>\n",
       "      <td>1350.000000</td>\n",
       "      <td>1394.209961</td>\n",
       "      <td>1394.209961</td>\n",
       "      <td>1732300</td>\n",
       "    </tr>\n",
       "    <tr>\n",
       "      <th>3872</th>\n",
       "      <td>2020-01-07</td>\n",
       "      <td>1397.939941</td>\n",
       "      <td>1402.989990</td>\n",
       "      <td>1390.380005</td>\n",
       "      <td>1393.339966</td>\n",
       "      <td>1393.339966</td>\n",
       "      <td>1502700</td>\n",
       "    </tr>\n",
       "    <tr>\n",
       "      <th>3873</th>\n",
       "      <td>2020-01-08</td>\n",
       "      <td>1392.079956</td>\n",
       "      <td>1411.579956</td>\n",
       "      <td>1390.839966</td>\n",
       "      <td>1404.319946</td>\n",
       "      <td>1404.319946</td>\n",
       "      <td>1528000</td>\n",
       "    </tr>\n",
       "    <tr>\n",
       "      <th>...</th>\n",
       "      <td>...</td>\n",
       "      <td>...</td>\n",
       "      <td>...</td>\n",
       "      <td>...</td>\n",
       "      <td>...</td>\n",
       "      <td>...</td>\n",
       "      <td>...</td>\n",
       "    </tr>\n",
       "    <tr>\n",
       "      <th>4099</th>\n",
       "      <td>2020-11-30</td>\n",
       "      <td>1781.183960</td>\n",
       "      <td>1788.064941</td>\n",
       "      <td>1755.000000</td>\n",
       "      <td>1760.739990</td>\n",
       "      <td>1760.739990</td>\n",
       "      <td>1823800</td>\n",
       "    </tr>\n",
       "    <tr>\n",
       "      <th>4100</th>\n",
       "      <td>2020-12-01</td>\n",
       "      <td>1774.369995</td>\n",
       "      <td>1824.829956</td>\n",
       "      <td>1769.369995</td>\n",
       "      <td>1798.099976</td>\n",
       "      <td>1798.099976</td>\n",
       "      <td>1739000</td>\n",
       "    </tr>\n",
       "    <tr>\n",
       "      <th>4101</th>\n",
       "      <td>2020-12-02</td>\n",
       "      <td>1798.099976</td>\n",
       "      <td>1835.650024</td>\n",
       "      <td>1789.473022</td>\n",
       "      <td>1827.949951</td>\n",
       "      <td>1827.949951</td>\n",
       "      <td>1222000</td>\n",
       "    </tr>\n",
       "    <tr>\n",
       "      <th>4102</th>\n",
       "      <td>2020-12-03</td>\n",
       "      <td>1824.010010</td>\n",
       "      <td>1847.199951</td>\n",
       "      <td>1822.650024</td>\n",
       "      <td>1826.770020</td>\n",
       "      <td>1826.770020</td>\n",
       "      <td>1227300</td>\n",
       "    </tr>\n",
       "    <tr>\n",
       "      <th>4103</th>\n",
       "      <td>2020-12-04</td>\n",
       "      <td>1824.520020</td>\n",
       "      <td>1833.160034</td>\n",
       "      <td>1816.989990</td>\n",
       "      <td>1827.989990</td>\n",
       "      <td>1827.989990</td>\n",
       "      <td>1376100</td>\n",
       "    </tr>\n",
       "  </tbody>\n",
       "</table>\n",
       "<p>235 rows × 7 columns</p>\n",
       "</div>"
      ],
      "text/plain": [
       "            Date         Open         High          Low        Close  \\\n",
       "3869  2020-01-02  1341.550049  1368.140015  1341.550049  1367.369995   \n",
       "3870  2020-01-03  1347.859985  1372.500000  1345.543945  1360.660034   \n",
       "3871  2020-01-06  1350.000000  1396.500000  1350.000000  1394.209961   \n",
       "3872  2020-01-07  1397.939941  1402.989990  1390.380005  1393.339966   \n",
       "3873  2020-01-08  1392.079956  1411.579956  1390.839966  1404.319946   \n",
       "...          ...          ...          ...          ...          ...   \n",
       "4099  2020-11-30  1781.183960  1788.064941  1755.000000  1760.739990   \n",
       "4100  2020-12-01  1774.369995  1824.829956  1769.369995  1798.099976   \n",
       "4101  2020-12-02  1798.099976  1835.650024  1789.473022  1827.949951   \n",
       "4102  2020-12-03  1824.010010  1847.199951  1822.650024  1826.770020   \n",
       "4103  2020-12-04  1824.520020  1833.160034  1816.989990  1827.989990   \n",
       "\n",
       "        Adj Close   Volume  \n",
       "3869  1367.369995  1406600  \n",
       "3870  1360.660034  1186400  \n",
       "3871  1394.209961  1732300  \n",
       "3872  1393.339966  1502700  \n",
       "3873  1404.319946  1528000  \n",
       "...           ...      ...  \n",
       "4099  1760.739990  1823800  \n",
       "4100  1798.099976  1739000  \n",
       "4101  1827.949951  1222000  \n",
       "4102  1826.770020  1227300  \n",
       "4103  1827.989990  1376100  \n",
       "\n",
       "[235 rows x 7 columns]"
      ]
     },
     "execution_count": 27,
     "metadata": {},
     "output_type": "execute_result"
    }
   ],
   "source": [
    "test_set = df[df['Date'] >= '2020-01-01'].copy() # create testing dataset from data of 1st January 2020 onwards\n",
    "test_set"
   ]
  },
  {
   "cell_type": "code",
   "execution_count": 28,
   "metadata": {},
   "outputs": [
    {
     "data": {
      "text/html": [
       "<div>\n",
       "<style scoped>\n",
       "    .dataframe tbody tr th:only-of-type {\n",
       "        vertical-align: middle;\n",
       "    }\n",
       "\n",
       "    .dataframe tbody tr th {\n",
       "        vertical-align: top;\n",
       "    }\n",
       "\n",
       "    .dataframe thead th {\n",
       "        text-align: right;\n",
       "    }\n",
       "</style>\n",
       "<table border=\"1\" class=\"dataframe\">\n",
       "  <thead>\n",
       "    <tr style=\"text-align: right;\">\n",
       "      <th></th>\n",
       "      <th>Open</th>\n",
       "      <th>High</th>\n",
       "      <th>Low</th>\n",
       "      <th>Close</th>\n",
       "      <th>Volume</th>\n",
       "    </tr>\n",
       "  </thead>\n",
       "  <tbody>\n",
       "    <tr>\n",
       "      <th>0</th>\n",
       "      <td>49.813286</td>\n",
       "      <td>51.835709</td>\n",
       "      <td>47.800831</td>\n",
       "      <td>49.982655</td>\n",
       "      <td>44871300</td>\n",
       "    </tr>\n",
       "    <tr>\n",
       "      <th>1</th>\n",
       "      <td>50.316402</td>\n",
       "      <td>54.336334</td>\n",
       "      <td>50.062355</td>\n",
       "      <td>53.952770</td>\n",
       "      <td>22942800</td>\n",
       "    </tr>\n",
       "    <tr>\n",
       "      <th>2</th>\n",
       "      <td>55.168217</td>\n",
       "      <td>56.528118</td>\n",
       "      <td>54.321388</td>\n",
       "      <td>54.495735</td>\n",
       "      <td>18342800</td>\n",
       "    </tr>\n",
       "    <tr>\n",
       "      <th>3</th>\n",
       "      <td>55.412300</td>\n",
       "      <td>55.591629</td>\n",
       "      <td>51.591621</td>\n",
       "      <td>52.239193</td>\n",
       "      <td>15319700</td>\n",
       "    </tr>\n",
       "    <tr>\n",
       "      <th>4</th>\n",
       "      <td>52.284027</td>\n",
       "      <td>53.798351</td>\n",
       "      <td>51.746044</td>\n",
       "      <td>52.802086</td>\n",
       "      <td>9232100</td>\n",
       "    </tr>\n",
       "    <tr>\n",
       "      <th>...</th>\n",
       "      <td>...</td>\n",
       "      <td>...</td>\n",
       "      <td>...</td>\n",
       "      <td>...</td>\n",
       "      <td>...</td>\n",
       "    </tr>\n",
       "    <tr>\n",
       "      <th>3864</th>\n",
       "      <td>1348.500000</td>\n",
       "      <td>1350.260010</td>\n",
       "      <td>1342.780029</td>\n",
       "      <td>1343.560059</td>\n",
       "      <td>347500</td>\n",
       "    </tr>\n",
       "    <tr>\n",
       "      <th>3865</th>\n",
       "      <td>1346.170044</td>\n",
       "      <td>1361.327026</td>\n",
       "      <td>1344.469971</td>\n",
       "      <td>1360.400024</td>\n",
       "      <td>667500</td>\n",
       "    </tr>\n",
       "    <tr>\n",
       "      <th>3866</th>\n",
       "      <td>1362.989990</td>\n",
       "      <td>1364.530029</td>\n",
       "      <td>1349.310059</td>\n",
       "      <td>1351.890015</td>\n",
       "      <td>1038400</td>\n",
       "    </tr>\n",
       "    <tr>\n",
       "      <th>3867</th>\n",
       "      <td>1350.000000</td>\n",
       "      <td>1353.000000</td>\n",
       "      <td>1334.020020</td>\n",
       "      <td>1336.140015</td>\n",
       "      <td>1050900</td>\n",
       "    </tr>\n",
       "    <tr>\n",
       "      <th>3868</th>\n",
       "      <td>1330.109985</td>\n",
       "      <td>1338.000000</td>\n",
       "      <td>1329.084961</td>\n",
       "      <td>1337.020020</td>\n",
       "      <td>961800</td>\n",
       "    </tr>\n",
       "  </tbody>\n",
       "</table>\n",
       "<p>3869 rows × 5 columns</p>\n",
       "</div>"
      ],
      "text/plain": [
       "             Open         High          Low        Close    Volume\n",
       "0       49.813286    51.835709    47.800831    49.982655  44871300\n",
       "1       50.316402    54.336334    50.062355    53.952770  22942800\n",
       "2       55.168217    56.528118    54.321388    54.495735  18342800\n",
       "3       55.412300    55.591629    51.591621    52.239193  15319700\n",
       "4       52.284027    53.798351    51.746044    52.802086   9232100\n",
       "...           ...          ...          ...          ...       ...\n",
       "3864  1348.500000  1350.260010  1342.780029  1343.560059    347500\n",
       "3865  1346.170044  1361.327026  1344.469971  1360.400024    667500\n",
       "3866  1362.989990  1364.530029  1349.310059  1351.890015   1038400\n",
       "3867  1350.000000  1353.000000  1334.020020  1336.140015   1050900\n",
       "3868  1330.109985  1338.000000  1329.084961  1337.020020    961800\n",
       "\n",
       "[3869 rows x 5 columns]"
      ]
     },
     "execution_count": 28,
     "metadata": {},
     "output_type": "execute_result"
    }
   ],
   "source": [
    "training_data = train_set.drop(['Date', 'Adj Close'], axis = 1) # Remove unecassary columns\n",
    "training_data"
   ]
  },
  {
   "cell_type": "code",
   "execution_count": 29,
   "metadata": {},
   "outputs": [
    {
     "name": "stderr",
     "output_type": "stream",
     "text": [
      "/anaconda3/lib/python3.7/site-packages/sklearn/preprocessing/data.py:323: DataConversionWarning: Data with input dtype int64, float64 were all converted to float64 by MinMaxScaler.\n",
      "  return self.partial_fit(X, y)\n"
     ]
    },
    {
     "data": {
      "text/plain": [
       "array([[3.07080191e-04, 8.79291979e-04, 0.00000000e+00, 1.25356905e-04,\n",
       "        5.43577404e-01],\n",
       "       [6.89986513e-04, 2.78189186e-03, 1.73314228e-03, 3.15285500e-03,\n",
       "        2.77885613e-01],\n",
       "       [4.38255570e-03, 4.44951014e-03, 4.99709621e-03, 3.56690484e-03,\n",
       "        2.22150736e-01],\n",
       "       ...,\n",
       "       [9.99726026e-01, 9.99642423e-01, 9.97425041e-01, 9.92923311e-01,\n",
       "        1.24858240e-02],\n",
       "       [9.89839738e-01, 9.90869803e-01, 9.85707361e-01, 9.80912804e-01,\n",
       "        1.26372774e-02],\n",
       "       [9.74702051e-01, 9.79457057e-01, 9.81925328e-01, 9.81583871e-01,\n",
       "        1.15577171e-02]])"
      ]
     },
     "execution_count": 29,
     "metadata": {},
     "output_type": "execute_result"
    }
   ],
   "source": [
    "scaler = MinMaxScaler() #Scale training data for LSTM between 0 and 1 for better prediction\n",
    "training_data = scaler.fit_transform(training_data)\n",
    "training_data"
   ]
  },
  {
   "cell_type": "code",
   "execution_count": 30,
   "metadata": {},
   "outputs": [],
   "source": [
    "X_train = []\n",
    "y_train = []"
   ]
  },
  {
   "cell_type": "code",
   "execution_count": 31,
   "metadata": {},
   "outputs": [],
   "source": [
    "for i in range(30, training_data.shape[0]):\n",
    "    X_train.append(training_data[i-30:i]) #X_train is a list of lists each having 30 day data \n",
    "    y_train.append(training_data[i, 0]) #y_train is a set of data having values from each 30 day set for the next day after the previous 30 days"
   ]
  },
  {
   "cell_type": "code",
   "execution_count": 32,
   "metadata": {},
   "outputs": [],
   "source": [
    "X_train, y_train = np.array(X_train), np.array(y_train) #Convert in np.array foo reshaping "
   ]
  },
  {
   "cell_type": "code",
   "execution_count": 33,
   "metadata": {},
   "outputs": [
    {
     "data": {
      "text/plain": [
       "array([0.01198378, 0.01367085, 0.01344717, ..., 0.99972603, 0.98983974,\n",
       "       0.97470205])"
      ]
     },
     "execution_count": 33,
     "metadata": {},
     "output_type": "execute_result"
    }
   ],
   "source": [
    "X_train.shape, y_train.shape\n",
    "y_train"
   ]
  },
  {
   "cell_type": "code",
   "execution_count": 34,
   "metadata": {},
   "outputs": [],
   "source": [
    "#scaler.scale_ "
   ]
  },
  {
   "cell_type": "code",
   "execution_count": 35,
   "metadata": {},
   "outputs": [],
   "source": [
    "#scale = 1/7.61069658e-04\n",
    "#temp = y_train*scale\n",
    "#temp"
   ]
  },
  {
   "cell_type": "markdown",
   "metadata": {},
   "source": [
    "## Building LSTM Model "
   ]
  },
  {
   "cell_type": "code",
   "execution_count": 37,
   "metadata": {},
   "outputs": [],
   "source": [
    "from tensorflow.keras import Sequential\n",
    "from tensorflow.keras.layers import Dense, LSTM, Dropout"
   ]
  },
  {
   "cell_type": "code",
   "execution_count": 38,
   "metadata": {},
   "outputs": [],
   "source": [
    "regressor = Sequential() #Sequential model for the LSTM\n",
    "\n",
    "regressor.add(LSTM(units = 60, activation = 'relu', return_sequences=True, input_shape = (X_train.shape[1], 5)))  \n",
    "regressor.add(Dropout(0.2))\n",
    "\n",
    "regressor.add(LSTM(units = 60, activation = 'relu', return_sequences=True))\n",
    "regressor.add(Dropout(0.2))\n",
    "\n",
    "regressor.add(LSTM(units = 80, activation = 'relu', return_sequences=True))\n",
    "regressor.add(Dropout(0.2))\n",
    "\n",
    "regressor.add(LSTM(units = 120, activation = 'relu'))\n",
    "regressor.add(Dropout(0.2))\n",
    "\n",
    "regressor.add(Dense(units = 1))"
   ]
  },
  {
   "cell_type": "code",
   "execution_count": 39,
   "metadata": {},
   "outputs": [
    {
     "name": "stdout",
     "output_type": "stream",
     "text": [
      "Model: \"sequential\"\n",
      "_________________________________________________________________\n",
      "Layer (type)                 Output Shape              Param #   \n",
      "=================================================================\n",
      "unified_lstm (UnifiedLSTM)   (None, 30, 60)            15840     \n",
      "_________________________________________________________________\n",
      "dropout (Dropout)            (None, 30, 60)            0         \n",
      "_________________________________________________________________\n",
      "unified_lstm_1 (UnifiedLSTM) (None, 30, 60)            29040     \n",
      "_________________________________________________________________\n",
      "dropout_1 (Dropout)          (None, 30, 60)            0         \n",
      "_________________________________________________________________\n",
      "unified_lstm_2 (UnifiedLSTM) (None, 30, 80)            45120     \n",
      "_________________________________________________________________\n",
      "dropout_2 (Dropout)          (None, 30, 80)            0         \n",
      "_________________________________________________________________\n",
      "unified_lstm_3 (UnifiedLSTM) (None, 120)               96480     \n",
      "_________________________________________________________________\n",
      "dropout_3 (Dropout)          (None, 120)               0         \n",
      "_________________________________________________________________\n",
      "dense (Dense)                (None, 1)                 121       \n",
      "=================================================================\n",
      "Total params: 186,601\n",
      "Trainable params: 186,601\n",
      "Non-trainable params: 0\n",
      "_________________________________________________________________\n"
     ]
    }
   ],
   "source": [
    "regressor.summary() #Model summary giving shapes of layers and parameters"
   ]
  },
  {
   "cell_type": "code",
   "execution_count": 40,
   "metadata": {},
   "outputs": [],
   "source": [
    "regressor.compile(optimizer = 'adam', loss = 'mean_squared_error') #compile model"
   ]
  },
  {
   "cell_type": "code",
   "execution_count": 41,
   "metadata": {},
   "outputs": [
    {
     "name": "stdout",
     "output_type": "stream",
     "text": [
      "Epoch 1/50\n",
      "3839/3839 [==============================] - 37s 10ms/sample - loss: 0.0121\n",
      "Epoch 2/50\n",
      "3839/3839 [==============================] - 26s 7ms/sample - loss: 0.0022\n",
      "Epoch 3/50\n",
      "3839/3839 [==============================] - 28s 7ms/sample - loss: 0.0020\n",
      "Epoch 4/50\n",
      "3839/3839 [==============================] - 28s 7ms/sample - loss: 0.0019\n",
      "Epoch 5/50\n",
      "3839/3839 [==============================] - 27s 7ms/sample - loss: 0.0016\n",
      "Epoch 6/50\n",
      "3839/3839 [==============================] - 28s 7ms/sample - loss: 0.0017\n",
      "Epoch 7/50\n",
      "3839/3839 [==============================] - 27s 7ms/sample - loss: 0.0014\n",
      "Epoch 8/50\n",
      "3839/3839 [==============================] - 28s 7ms/sample - loss: 0.0013\n",
      "Epoch 9/50\n",
      "3839/3839 [==============================] - 24s 6ms/sample - loss: 0.0013\n",
      "Epoch 10/50\n",
      "3839/3839 [==============================] - 25s 6ms/sample - loss: 0.0013\n",
      "Epoch 11/50\n",
      "3839/3839 [==============================] - 26s 7ms/sample - loss: 0.0011\n",
      "Epoch 12/50\n",
      "3839/3839 [==============================] - 28s 7ms/sample - loss: 0.0012\n",
      "Epoch 13/50\n",
      "3839/3839 [==============================] - 27s 7ms/sample - loss: 0.0011\n",
      "Epoch 14/50\n",
      "3839/3839 [==============================] - 28s 7ms/sample - loss: 9.6302e-04\n",
      "Epoch 15/50\n",
      "3839/3839 [==============================] - 27s 7ms/sample - loss: 0.0011\n",
      "Epoch 16/50\n",
      "3839/3839 [==============================] - 28s 7ms/sample - loss: 9.5105e-04\n",
      "Epoch 17/50\n",
      "3839/3839 [==============================] - 26s 7ms/sample - loss: 0.0011\n",
      "Epoch 18/50\n",
      "3839/3839 [==============================] - 29s 8ms/sample - loss: 9.5298e-04\n",
      "Epoch 19/50\n",
      "3839/3839 [==============================] - 27s 7ms/sample - loss: 9.2556e-04\n",
      "Epoch 20/50\n",
      "3839/3839 [==============================] - 28s 7ms/sample - loss: 8.4775e-04\n",
      "Epoch 21/50\n",
      "3839/3839 [==============================] - 27s 7ms/sample - loss: 9.4746e-04\n",
      "Epoch 22/50\n",
      "3839/3839 [==============================] - 29s 8ms/sample - loss: 7.6843e-04\n",
      "Epoch 23/50\n",
      "3839/3839 [==============================] - 28s 7ms/sample - loss: 9.1281e-04\n",
      "Epoch 24/50\n",
      "3839/3839 [==============================] - 31s 8ms/sample - loss: 9.8627e-04\n",
      "Epoch 25/50\n",
      "3839/3839 [==============================] - 27s 7ms/sample - loss: 9.2166e-04\n",
      "Epoch 26/50\n",
      "3839/3839 [==============================] - 28s 7ms/sample - loss: 8.2417e-04\n",
      "Epoch 27/50\n",
      "3839/3839 [==============================] - 26s 7ms/sample - loss: 8.4704e-04\n",
      "Epoch 28/50\n",
      "3839/3839 [==============================] - 32s 8ms/sample - loss: 7.9377e-04\n",
      "Epoch 29/50\n",
      "3839/3839 [==============================] - 29s 8ms/sample - loss: 9.2887e-04\n",
      "Epoch 30/50\n",
      "3839/3839 [==============================] - 27s 7ms/sample - loss: 7.6218e-04\n",
      "Epoch 31/50\n",
      "3839/3839 [==============================] - 29s 8ms/sample - loss: 7.5179e-04\n",
      "Epoch 32/50\n",
      "3839/3839 [==============================] - 25s 7ms/sample - loss: 7.1480e-04\n",
      "Epoch 33/50\n",
      "3839/3839 [==============================] - 28s 7ms/sample - loss: 6.7738e-04\n",
      "Epoch 34/50\n",
      "3839/3839 [==============================] - 27s 7ms/sample - loss: 7.0757e-04\n",
      "Epoch 35/50\n",
      "3839/3839 [==============================] - 29s 8ms/sample - loss: 7.2469e-04\n",
      "Epoch 36/50\n",
      "3839/3839 [==============================] - 25s 7ms/sample - loss: 7.3167e-04\n",
      "Epoch 37/50\n",
      "3839/3839 [==============================] - 27s 7ms/sample - loss: 7.6683e-04\n",
      "Epoch 38/50\n",
      "3839/3839 [==============================] - 26s 7ms/sample - loss: 6.6657e-04\n",
      "Epoch 39/50\n",
      "3839/3839 [==============================] - 29s 8ms/sample - loss: 6.7412e-04\n",
      "Epoch 40/50\n",
      "3839/3839 [==============================] - 25s 6ms/sample - loss: 7.1374e-04\n",
      "Epoch 41/50\n",
      "3839/3839 [==============================] - 29s 7ms/sample - loss: 7.0708e-04\n",
      "Epoch 42/50\n",
      "3839/3839 [==============================] - 28s 7ms/sample - loss: 7.0868e-04\n",
      "Epoch 43/50\n",
      "3839/3839 [==============================] - 28s 7ms/sample - loss: 6.8605e-04\n",
      "Epoch 44/50\n",
      "3839/3839 [==============================] - 27s 7ms/sample - loss: 6.1320e-04\n",
      "Epoch 45/50\n",
      "3839/3839 [==============================] - 29s 7ms/sample - loss: 7.2382e-04\n",
      "Epoch 46/50\n",
      "3839/3839 [==============================] - 29s 8ms/sample - loss: 6.7255e-04\n",
      "Epoch 47/50\n",
      "3839/3839 [==============================] - 27s 7ms/sample - loss: 6.6950e-04\n",
      "Epoch 48/50\n",
      "3839/3839 [==============================] - 27s 7ms/sample - loss: 7.0074e-04\n",
      "Epoch 49/50\n",
      "3839/3839 [==============================] - 29s 8ms/sample - loss: 6.5107e-04\n",
      "Epoch 50/50\n",
      "3839/3839 [==============================] - 26s 7ms/sample - loss: 6.2623e-04\n"
     ]
    },
    {
     "data": {
      "text/plain": [
       "<tensorflow.python.keras.callbacks.History at 0x1a2905e2b0>"
      ]
     },
     "execution_count": 41,
     "metadata": {},
     "output_type": "execute_result"
    }
   ],
   "source": [
    "regressor.fit(X_train, y_train, epochs = 50, batch_size = 32) #Train the model on training data"
   ]
  },
  {
   "cell_type": "markdown",
   "metadata": {},
   "source": [
    "## Prepare Test Data"
   ]
  },
  {
   "cell_type": "code",
   "execution_count": 262,
   "metadata": {},
   "outputs": [],
   "source": [
    "last_30_day_data = train_set.tail(30)\n",
    "df_test = last_30_day_data.append(test_set, ignore_index=True)"
   ]
  },
  {
   "cell_type": "code",
   "execution_count": 263,
   "metadata": {},
   "outputs": [
    {
     "data": {
      "text/html": [
       "<div>\n",
       "<style scoped>\n",
       "    .dataframe tbody tr th:only-of-type {\n",
       "        vertical-align: middle;\n",
       "    }\n",
       "\n",
       "    .dataframe tbody tr th {\n",
       "        vertical-align: top;\n",
       "    }\n",
       "\n",
       "    .dataframe thead th {\n",
       "        text-align: right;\n",
       "    }\n",
       "</style>\n",
       "<table border=\"1\" class=\"dataframe\">\n",
       "  <thead>\n",
       "    <tr style=\"text-align: right;\">\n",
       "      <th></th>\n",
       "      <th>Open</th>\n",
       "      <th>High</th>\n",
       "      <th>Low</th>\n",
       "      <th>Close</th>\n",
       "      <th>Volume</th>\n",
       "    </tr>\n",
       "  </thead>\n",
       "  <tbody>\n",
       "    <tr>\n",
       "      <th>0</th>\n",
       "      <td>1332.219971</td>\n",
       "      <td>1335.529053</td>\n",
       "      <td>1317.500000</td>\n",
       "      <td>1320.699951</td>\n",
       "      <td>1487400</td>\n",
       "    </tr>\n",
       "    <tr>\n",
       "      <th>1</th>\n",
       "      <td>1327.699951</td>\n",
       "      <td>1327.699951</td>\n",
       "      <td>1312.800049</td>\n",
       "      <td>1315.459961</td>\n",
       "      <td>1269200</td>\n",
       "    </tr>\n",
       "    <tr>\n",
       "      <th>2</th>\n",
       "      <td>1311.739990</td>\n",
       "      <td>1315.000000</td>\n",
       "      <td>1291.150024</td>\n",
       "      <td>1303.050049</td>\n",
       "      <td>1308600</td>\n",
       "    </tr>\n",
       "    <tr>\n",
       "      <th>3</th>\n",
       "      <td>1301.479980</td>\n",
       "      <td>1312.589966</td>\n",
       "      <td>1293.000000</td>\n",
       "      <td>1301.349976</td>\n",
       "      <td>995500</td>\n",
       "    </tr>\n",
       "    <tr>\n",
       "      <th>4</th>\n",
       "      <td>1305.619995</td>\n",
       "      <td>1308.729980</td>\n",
       "      <td>1291.410034</td>\n",
       "      <td>1295.339966</td>\n",
       "      <td>1385700</td>\n",
       "    </tr>\n",
       "  </tbody>\n",
       "</table>\n",
       "</div>"
      ],
      "text/plain": [
       "          Open         High          Low        Close   Volume\n",
       "0  1332.219971  1335.529053  1317.500000  1320.699951  1487400\n",
       "1  1327.699951  1327.699951  1312.800049  1315.459961  1269200\n",
       "2  1311.739990  1315.000000  1291.150024  1303.050049  1308600\n",
       "3  1301.479980  1312.589966  1293.000000  1301.349976   995500\n",
       "4  1305.619995  1308.729980  1291.410034  1295.339966  1385700"
      ]
     },
     "execution_count": 263,
     "metadata": {},
     "output_type": "execute_result"
    }
   ],
   "source": [
    "df_test = df_test.drop(['Date', \"Adj Close\"], axis=1)\n",
    "df_test.head()"
   ]
  },
  {
   "cell_type": "code",
   "execution_count": 264,
   "metadata": {},
   "outputs": [
    {
     "data": {
      "text/plain": [
       "array([[0.9763079 , 0.97757704, 0.97304707, 0.96913864, 0.01792603],\n",
       "       [0.97286785, 0.97162027, 0.96944522, 0.96514278, 0.01528226],\n",
       "       [0.96072121, 0.96195751, 0.9528535 , 0.95567933, 0.01575964],\n",
       "       ...,\n",
       "       [1.33087503, 1.35809395, 1.33474847, 1.35595324, 0.01471037],\n",
       "       [1.35059437, 1.36688171, 1.36017401, 1.35505345, 0.01477459],\n",
       "       [1.35098253, 1.35619944, 1.35583639, 1.35598377, 0.01657749]])"
      ]
     },
     "execution_count": 264,
     "metadata": {},
     "output_type": "execute_result"
    }
   ],
   "source": [
    "norm_test_set = scaler.transform(df_test) #Scale test data\n",
    "norm_test_set"
   ]
  },
  {
   "cell_type": "code",
   "execution_count": null,
   "metadata": {},
   "outputs": [],
   "source": []
  },
  {
   "cell_type": "code",
   "execution_count": 265,
   "metadata": {},
   "outputs": [],
   "source": [
    "X_test = []\n",
    "y_test = []\n",
    "# Arrange test data similarly as input data \n",
    "for i in range(30, norm_test_set.shape[0]): \n",
    "    X_test.append(norm_test_set[i-30:i])\n",
    "    y_test.append(norm_test_set[i, 0])"
   ]
  },
  {
   "cell_type": "code",
   "execution_count": 266,
   "metadata": {},
   "outputs": [],
   "source": [
    "X_test, y_test = np.array(X_test), np.array(y_test)"
   ]
  },
  {
   "cell_type": "code",
   "execution_count": 267,
   "metadata": {},
   "outputs": [
    {
     "data": {
      "text/plain": [
       "(235, 30, 5)"
      ]
     },
     "execution_count": 267,
     "metadata": {},
     "output_type": "execute_result"
    }
   ],
   "source": [
    "X_test.shape"
   ]
  },
  {
   "cell_type": "code",
   "execution_count": 268,
   "metadata": {
    "scrolled": true
   },
   "outputs": [
    {
     "data": {
      "text/plain": [
       "array([7.61069658e-04, 7.60849739e-04, 7.66360329e-04, 7.62571888e-04,\n",
       "       1.21162775e-08])"
      ]
     },
     "execution_count": 268,
     "metadata": {},
     "output_type": "execute_result"
    }
   ],
   "source": [
    "y_pred = regressor.predict(X_test) #predict values for X_test \n",
    "scaler.scale_"
   ]
  },
  {
   "cell_type": "code",
   "execution_count": 269,
   "metadata": {},
   "outputs": [
    {
     "data": {
      "text/plain": [
       "1313.940175499678"
      ]
     },
     "execution_count": 269,
     "metadata": {},
     "output_type": "execute_result"
    }
   ],
   "source": [
    "scale = 1/7.61069658e-04\n",
    "scale"
   ]
  },
  {
   "cell_type": "code",
   "execution_count": 270,
   "metadata": {},
   "outputs": [
    {
     "data": {
      "text/plain": [
       "array([1292.14024849, 1298.45018449, 1300.59019949, 1348.53014051,\n",
       "       1342.67015551, 1371.16014552, 1378.15025852, 1386.72020453,\n",
       "       1389.60020953, 1380.80016053, 1398.03014053, 1413.50023354,\n",
       "       1429.71019454, 1441.59019955, 1438.23021455, 1444.18016555,\n",
       "       1381.59019953, 1393.59019953, 1409.39024854, 1390.55016053,\n",
       "       1419.49022354, 1412.59019954, 1407.66014554, 1413.01024354,\n",
       "       1400.92015553, 1417.89024854, 1424.91014554, 1462.40025856,\n",
       "       1465.07017956, 1463.28014056, 1466.19017556, 1465.59019956,\n",
       "       1475.66014556, 1472.59019956, 1458.62022855, 1376.70018452,\n",
       "       1383.59019953, 1346.73021451, 1312.6502585 , 1228.09019947,\n",
       "       1302.2001845 , 1350.01024351, 1309.8201795 , 1300.79015049,\n",
       "       1227.65025847, 1155.89024844, 1210.59019946, 1200.29015046,\n",
       "       1076.59019941, 1129.59019943, 1046.5901994 , 1043.7001844 ,\n",
       "       1007.10020938, 1043.6402484 , 1086.31017041, 1011.91014538,\n",
       "       1054.3602194 , 1077.06017041, 1062.3902484 , 1076.26024341,\n",
       "       1075.63023841, 1097.89024842, 1072.59019941, 1048.8502094 ,\n",
       "       1069.60521441, 1088.59019941, 1171.59019945, 1157.09019944,\n",
       "       1174.67015545, 1159.77025344, 1195.68016545, 1196.20018445,\n",
       "       1224.69017547, 1235.44017547, 1221.59019946, 1197.59019946,\n",
       "       1196.13023845, 1222.14024846, 1211.76024346, 1246.59019947,\n",
       "       1238.52025347, 1292.05016049, 1275.47020449, 1279.09019949,\n",
       "       1258.82017948, 1288.51024349, 1312.2801405 , 1316.5301405 ,\n",
       "       1333.72020451, 1328.87022851, 1357.71019452, 1327.6402485 ,\n",
       "       1285.61021949, 1300.59019949, 1312.3401995 , 1337.58714751,\n",
       "       1340.17015551, 1358.59019952, 1347.30016051, 1387.86021953,\n",
       "       1367.84019952, 1347.45018451, 1367.53014052, 1368.98021452,\n",
       "       1381.14024853, 1388.89024853, 1380.99022353, 1363.76024352,\n",
       "       1372.93016552, 1395.95018453, 1410.13023854, 1393.07017953,\n",
       "       1379.08018952, 1341.39024851, 1395.81017053, 1397.75023353,\n",
       "       1399.75023353, 1394.59019953, 1379.59019952, 1406.23021453,\n",
       "       1412.10020954, 1380.49022352, 1381.98021453, 1308.7702535 ,\n",
       "       1341.03014051, 1361.69017552, 1397.53014053, 1430.65025854,\n",
       "       1440.59019955, 1444.91014555, 1457.04015055, 1456.74022355,\n",
       "       1500.59019957, 1440.90025855, 1473.72020456, 1450.59019955,\n",
       "       1472.21019456, 1465.85020956, 1537.58018958, 1511.09019957,\n",
       "       1517.56017058, 1449.52025355, 1466.19017556, 1475.77025356,\n",
       "       1456.91014555, 1447.59019955, 1455.60020955, 1437.23021455,\n",
       "       1427.16014554, 1419.89024854, 1422.34019954, 1450.59019955,\n",
       "       1437.77025355, 1443.03014055, 1436.17015555, 1460.93016556,\n",
       "       1466.25023356, 1465.26024356, 1476.77025356, 1503.90025857,\n",
       "       1494.04015057, 1527.62022858, 1544.57017959, 1532.66014558,\n",
       "       1558.59019959, 1604.27025361, 1584.0801896 , 1598.48021461,\n",
       "       1587.2202046 , 1624.36522362, 1660.30418863, 1574.8502096 ,\n",
       "       1484.10020956, 1508.12022857, 1511.23021457, 1486.59019957,\n",
       "       1489.59520457, 1486.59019957, 1506.13023857, 1446.59019955,\n",
       "       1448.60020955, 1390.65025853, 1400.68016553, 1409.37022854,\n",
       "       1361.62022852, 1383.22020453, 1424.80016054, 1420.98021454,\n",
       "       1417.39024854, 1434.86021955, 1412.62022854, 1416.80016054,\n",
       "       1426.17015554, 1414.88023854, 1415.68016554, 1445.29015055,\n",
       "       1493.59019957, 1534.32017958, 1529.18016558, 1497.74022357,\n",
       "       1516.44017558, 1531.05016058, 1477.64024856, 1523.92015558,\n",
       "       1543.64024859, 1576.6601456 , 1575.6002096 , 1546.26024359,\n",
       "       1510.33018957, 1472.95018456, 1622.70018462, 1578.7502336 ,\n",
       "       1582.3702286 , 1660.87022863, 1731.59019966, 1704.54015065,\n",
       "       1741.49022366, 1681.68016564, 1700.59019965, 1698.22020465,\n",
       "       1708.22020465, 1722.29015065, 1727.53014066, 1715.82017965,\n",
       "       1688.97020464, 1715.80016065, 1700.19017565, 1681.09019964,\n",
       "       1723.48021466, 1723.68016566, 1731.77415966, 1724.96019466,\n",
       "       1748.69017567, 1774.60020967, 1775.11021968])"
      ]
     },
     "execution_count": 270,
     "metadata": {},
     "output_type": "execute_result"
    }
   ],
   "source": [
    "y_test = y_test*scale #Rescale data to original forms rather than in the range 0 and 1\n",
    "y_pred = y_pred*scale\n",
    "\n",
    "y_test"
   ]
  },
  {
   "cell_type": "code",
   "execution_count": 271,
   "metadata": {},
   "outputs": [
    {
     "data": {
      "text/plain": [
       "235"
      ]
     },
     "execution_count": 271,
     "metadata": {},
     "output_type": "execute_result"
    }
   ],
   "source": [
    "len(y_test)"
   ]
  },
  {
   "cell_type": "markdown",
   "metadata": {},
   "source": [
    "## Vizualizing Predictions"
   ]
  },
  {
   "cell_type": "code",
   "execution_count": 272,
   "metadata": {},
   "outputs": [
    {
     "data": {
      "text/plain": [
       "<matplotlib.legend.Legend at 0x1a4872dda0>"
      ]
     },
     "execution_count": 272,
     "metadata": {},
     "output_type": "execute_result"
    },
    {
     "data": {
      "image/png": "[encoded data removed]",
      "text/plain": [
       "<Figure size 1008x360 with 1 Axes>"
      ]
     },
     "metadata": {
      "needs_background": "light"
     },
     "output_type": "display_data"
    }
   ],
   "source": [
    "#Plot the predicted values and close price values\n",
    "plt.figure(figsize = (14, 5))\n",
    "plt.plot(df_test['Close'].loc[:235], color='r', label='Google Close Price')\n",
    "plt.plot(y_pred, color='b', label='Predicted Google Stock Price')\n",
    "\n",
    "plt.xlabel('Time Points')\n",
    "plt.ylabel('Price')\n",
    "plt.legend(fontsize=18)"
   ]
  },
  {
   "cell_type": "code",
   "execution_count": 273,
   "metadata": {},
   "outputs": [
    {
     "data": {
      "text/plain": [
       "1410.469510355932"
      ]
     },
     "execution_count": 273,
     "metadata": {},
     "output_type": "execute_result"
    }
   ],
   "source": [
    "np.mean(df_test['Close'].loc[:235]) #mean of close price"
   ]
  },
  {
   "cell_type": "code",
   "execution_count": 274,
   "metadata": {},
   "outputs": [
    {
     "data": {
      "text/plain": [
       "1255.4004"
      ]
     },
     "execution_count": 274,
     "metadata": {},
     "output_type": "execute_result"
    }
   ],
   "source": [
    "np.mean(y_pred) #mean of predicted price"
   ]
  },
  {
   "cell_type": "code",
   "execution_count": 281,
   "metadata": {},
   "outputs": [
    {
     "data": {
      "text/plain": [
       "191.21478820114905"
      ]
     },
     "execution_count": 281,
     "metadata": {},
     "output_type": "execute_result"
    }
   ],
   "source": [
    "math.sqrt(mean_squared_error(y_pred, df_test['Close'].loc[:234]))"
   ]
  },
  {
   "cell_type": "markdown",
   "metadata": {},
   "source": [
    "## Second LSTM Model"
   ]
  },
  {
   "cell_type": "code",
   "execution_count": 288,
   "metadata": {},
   "outputs": [],
   "source": [
    "#Split train test data\n",
    "df_close_train = df[df['Date'] < '2020-01-01']['Close'].copy()\n",
    "df_close_test = df[df['Date'] >= '2020-01-01']['Close'].copy()"
   ]
  },
  {
   "cell_type": "code",
   "execution_count": 289,
   "metadata": {},
   "outputs": [],
   "source": [
    "df_close_train = df_close_train.to_frame()"
   ]
  },
  {
   "cell_type": "code",
   "execution_count": 290,
   "metadata": {},
   "outputs": [],
   "source": [
    "df_close_test = df_close_test.to_frame()"
   ]
  },
  {
   "cell_type": "code",
   "execution_count": 291,
   "metadata": {},
   "outputs": [
    {
     "data": {
      "text/plain": [
       "[<matplotlib.lines.Line2D at 0x1a4691e438>]"
      ]
     },
     "execution_count": 291,
     "metadata": {},
     "output_type": "execute_result"
    },
    {
     "data": {
      "image/png": "[encoded data removed]",
      "text/plain": [
       "<Figure size 1008x360 with 1 Axes>"
      ]
     },
     "metadata": {
      "needs_background": "light"
     },
     "output_type": "display_data"
    }
   ],
   "source": [
    "plt.figure(figsize = (14, 5))\n",
    "plt.plot(df_close_train, color = 'r')"
   ]
  },
  {
   "cell_type": "code",
   "execution_count": 292,
   "metadata": {},
   "outputs": [],
   "source": [
    "#scale data\n",
    "scaler_two = MinMaxScaler()\n",
    "close_train = scaler_two.fit_transform(df_close_train)"
   ]
  },
  {
   "cell_type": "code",
   "execution_count": 293,
   "metadata": {},
   "outputs": [
    {
     "data": {
      "text/plain": [
       "array([[1.25356905e-04],\n",
       "       [3.15285500e-03],\n",
       "       [3.56690484e-03],\n",
       "       ...,\n",
       "       [9.92923311e-01],\n",
       "       [9.80912804e-01],\n",
       "       [9.81583871e-01]])"
      ]
     },
     "execution_count": 293,
     "metadata": {},
     "output_type": "execute_result"
    }
   ],
   "source": [
    "close_train"
   ]
  },
  {
   "cell_type": "code",
   "execution_count": 294,
   "metadata": {},
   "outputs": [],
   "source": [
    "#function to create dataset similarly as first model \n",
    "\n",
    "def create_dataset(dataset, time_step=1):\n",
    "    data_X, data_Y = [], []\n",
    "    for i in range(len(dataset) - time_step - 1):\n",
    "        data_X.append(dataset[i:(i + time_step), 0])\n",
    "        data_Y.append(dataset[i + time_step, 0])\n",
    "    return np.array(data_X), np.array(data_Y)"
   ]
  },
  {
   "cell_type": "code",
   "execution_count": 295,
   "metadata": {},
   "outputs": [],
   "source": [
    "close_test = scaler_two.transform(df_close_test) #transform close data "
   ]
  },
  {
   "cell_type": "code",
   "execution_count": 296,
   "metadata": {},
   "outputs": [],
   "source": [
    "# create train test datasets\n",
    "timestep = 30\n",
    "X_train, y_train = create_dataset(close_train, timestep)\n",
    "X_test, y_test = create_dataset(close_test, timestep)"
   ]
  },
  {
   "cell_type": "code",
   "execution_count": 297,
   "metadata": {},
   "outputs": [
    {
     "data": {
      "text/plain": [
       "array([[1.25356905e-04, 3.15285500e-03, 3.56690484e-03, ...,\n",
       "        1.01992999e-02, 1.18023175e-02, 1.12401220e-02],\n",
       "       [3.15285500e-03, 3.56690484e-03, 1.84612935e-03, ...,\n",
       "        1.18023175e-02, 1.12401220e-02, 1.23721112e-02],\n",
       "       [3.56690484e-03, 1.84612935e-03, 2.27537573e-03, ...,\n",
       "        1.12401220e-02, 1.23721112e-02, 1.33141666e-02],\n",
       "       ...,\n",
       "       [9.52438395e-01, 9.51828300e-01, 9.62092488e-01, ...,\n",
       "        9.91169358e-01, 9.90597429e-01, 9.86571120e-01],\n",
       "       [9.51828300e-01, 9.62092488e-01, 9.79944322e-01, ...,\n",
       "        9.90597429e-01, 9.86571120e-01, 9.99412804e-01],\n",
       "       [9.62092488e-01, 9.79944322e-01, 9.69138645e-01, ...,\n",
       "        9.86571120e-01, 9.99412804e-01, 9.92923311e-01]])"
      ]
     },
     "execution_count": 297,
     "metadata": {},
     "output_type": "execute_result"
    }
   ],
   "source": [
    "X_train"
   ]
  },
  {
   "cell_type": "code",
   "execution_count": 298,
   "metadata": {},
   "outputs": [],
   "source": [
    "#reshape data for model training \n",
    "X_train = X_train.reshape(X_train.shape[0], X_train.shape[1], 1)\n",
    "X_test = X_test.reshape(X_test.shape[0], X_test.shape[1], 1)"
   ]
  },
  {
   "cell_type": "code",
   "execution_count": 230,
   "metadata": {},
   "outputs": [],
   "source": [
    "#Second LSTM model for decision validation\n",
    "model = Sequential()\n",
    "model.add(LSTM(60, return_sequences=True, activation = 'relu',input_shape = (30, 1)))\n",
    "model.add(LSTM(60, return_sequences=True, activation='relu'))\n",
    "model.add(LSTM(80, return_sequences=True, activation='relu'))\n",
    "#model.add(Dropout(0.2))\n",
    "model.add(LSTM(120, activation='relu'))\n",
    "model.add(Dense(1))\n",
    "model.compile(optimizer='adam', loss='mean_squared_error')"
   ]
  },
  {
   "cell_type": "code",
   "execution_count": 231,
   "metadata": {},
   "outputs": [
    {
     "name": "stdout",
     "output_type": "stream",
     "text": [
      "Model: \"sequential_6\"\n",
      "_________________________________________________________________\n",
      "Layer (type)                 Output Shape              Param #   \n",
      "=================================================================\n",
      "unified_lstm_24 (UnifiedLSTM (None, 30, 60)            14880     \n",
      "_________________________________________________________________\n",
      "unified_lstm_25 (UnifiedLSTM (None, 30, 60)            29040     \n",
      "_________________________________________________________________\n",
      "unified_lstm_26 (UnifiedLSTM (None, 30, 80)            45120     \n",
      "_________________________________________________________________\n",
      "unified_lstm_27 (UnifiedLSTM (None, 120)               96480     \n",
      "_________________________________________________________________\n",
      "dense_6 (Dense)              (None, 1)                 121       \n",
      "=================================================================\n",
      "Total params: 185,641\n",
      "Trainable params: 185,641\n",
      "Non-trainable params: 0\n",
      "_________________________________________________________________\n"
     ]
    }
   ],
   "source": [
    "model.summary()"
   ]
  },
  {
   "cell_type": "code",
   "execution_count": 232,
   "metadata": {},
   "outputs": [
    {
     "name": "stdout",
     "output_type": "stream",
     "text": [
      "Epoch 1/30\n",
      "3838/3838 [==============================] - 36s 9ms/sample - loss: 0.0149\n",
      "Epoch 2/30\n",
      "3838/3838 [==============================] - 27s 7ms/sample - loss: 5.6485e-04\n",
      "Epoch 3/30\n",
      "3838/3838 [==============================] - 30s 8ms/sample - loss: 4.9602e-04\n",
      "Epoch 4/30\n",
      "3838/3838 [==============================] - 30s 8ms/sample - loss: 4.9924e-04\n",
      "Epoch 5/30\n",
      "3838/3838 [==============================] - 30s 8ms/sample - loss: 4.7073e-04\n",
      "Epoch 6/30\n",
      "3838/3838 [==============================] - 27s 7ms/sample - loss: 5.8465e-04\n",
      "Epoch 7/30\n",
      "3838/3838 [==============================] - 28s 7ms/sample - loss: 4.5533e-04\n",
      "Epoch 8/30\n",
      "3838/3838 [==============================] - 32s 8ms/sample - loss: 5.4610e-04\n",
      "Epoch 9/30\n",
      "3838/3838 [==============================] - 30s 8ms/sample - loss: 4.2514e-04\n",
      "Epoch 10/30\n",
      "3838/3838 [==============================] - 28s 7ms/sample - loss: 4.6425e-04\n",
      "Epoch 11/30\n",
      "3838/3838 [==============================] - 26s 7ms/sample - loss: 5.1723e-04\n",
      "Epoch 12/30\n",
      "3838/3838 [==============================] - 26s 7ms/sample - loss: 3.2447e-04\n",
      "Epoch 13/30\n",
      "3838/3838 [==============================] - 28s 7ms/sample - loss: 3.4239e-04\n",
      "Epoch 14/30\n",
      "3838/3838 [==============================] - 28s 7ms/sample - loss: 4.0843e-04\n",
      "Epoch 15/30\n",
      "3838/3838 [==============================] - 29s 7ms/sample - loss: 3.7507e-04\n",
      "Epoch 16/30\n",
      "3838/3838 [==============================] - 29s 8ms/sample - loss: 3.6854e-04\n",
      "Epoch 17/30\n",
      "3838/3838 [==============================] - 30s 8ms/sample - loss: 3.2589e-04\n",
      "Epoch 18/30\n",
      "3838/3838 [==============================] - 34s 9ms/sample - loss: 2.3511e-04\n",
      "Epoch 19/30\n",
      "3838/3838 [==============================] - 32s 8ms/sample - loss: 2.9677e-04\n",
      "Epoch 20/30\n",
      "3838/3838 [==============================] - 34s 9ms/sample - loss: 2.6467e-04\n",
      "Epoch 21/30\n",
      "3838/3838 [==============================] - 29s 8ms/sample - loss: 2.5435e-04\n",
      "Epoch 22/30\n",
      "3838/3838 [==============================] - 30s 8ms/sample - loss: 2.0411e-04\n",
      "Epoch 23/30\n",
      "3838/3838 [==============================] - 29s 8ms/sample - loss: 2.0086e-04\n",
      "Epoch 24/30\n",
      "3838/3838 [==============================] - 30s 8ms/sample - loss: 1.8629e-04\n",
      "Epoch 25/30\n",
      "3838/3838 [==============================] - 30s 8ms/sample - loss: 2.5484e-04\n",
      "Epoch 26/30\n",
      "3838/3838 [==============================] - 28s 7ms/sample - loss: 2.3785e-04\n",
      "Epoch 27/30\n",
      "3838/3838 [==============================] - 30s 8ms/sample - loss: 1.6953e-04\n",
      "Epoch 28/30\n",
      "3838/3838 [==============================] - 30s 8ms/sample - loss: 1.5327e-04\n",
      "Epoch 29/30\n",
      "3838/3838 [==============================] - 29s 8ms/sample - loss: 1.5958e-04\n",
      "Epoch 30/30\n",
      "3838/3838 [==============================] - 30s 8ms/sample - loss: 1.4140e-04\n"
     ]
    },
    {
     "data": {
      "text/plain": [
       "<tensorflow.python.keras.callbacks.History at 0x1a498a7780>"
      ]
     },
     "execution_count": 232,
     "metadata": {},
     "output_type": "execute_result"
    }
   ],
   "source": [
    "model.fit(X_train, y_train, epochs=30, batch_size=32) #Fit model on train data"
   ]
  },
  {
   "cell_type": "code",
   "execution_count": 299,
   "metadata": {},
   "outputs": [],
   "source": [
    "#Predict y values from X_test\n",
    "y_fin = model.predict(X_test)\n",
    "train_pred = model.predict(X_train)"
   ]
  },
  {
   "cell_type": "code",
   "execution_count": 300,
   "metadata": {},
   "outputs": [],
   "source": [
    "#convert data to original format\n",
    "y_fin = scaler_two.inverse_transform(y_fin)\n",
    "train_pred = scaler_two.inverse_transform(train_pred)"
   ]
  },
  {
   "cell_type": "code",
   "execution_count": 301,
   "metadata": {},
   "outputs": [
    {
     "data": {
      "text/plain": [
       "(204, 1)"
      ]
     },
     "execution_count": 301,
     "metadata": {},
     "output_type": "execute_result"
    }
   ],
   "source": [
    "y_fin.shape"
   ]
  },
  {
   "cell_type": "code",
   "execution_count": 302,
   "metadata": {},
   "outputs": [],
   "source": [
    "#y_test = df_test['Close'].loc[32:235].reset_index()\n",
    "#y_test = y_test.drop(['index'], axis=1)\n",
    "#y_test"
   ]
  },
  {
   "cell_type": "code",
   "execution_count": 303,
   "metadata": {},
   "outputs": [
    {
     "data": {
      "text/plain": [
       "<matplotlib.legend.Legend at 0x1a48c66c88>"
      ]
     },
     "execution_count": 303,
     "metadata": {},
     "output_type": "execute_result"
    },
    {
     "data": {
      "image/png": "[encoded data removed]",
      "text/plain": [
       "<Figure size 1008x360 with 1 Axes>"
      ]
     },
     "metadata": {
      "needs_background": "light"
     },
     "output_type": "display_data"
    }
   ],
   "source": [
    "plt.figure(figsize = (14, 5)) # Initialize plot\n",
    "plt.plot(df_test['Close'].loc[:205], color='r', label='Google Close Price') # Plot close prices excluding the last 30 values which will be used for prediction\n",
    "plt.plot(y_fin, color='b', label='Predicted Google Stock Price') #Plot predicted prices \n",
    "\n",
    "plt.xlabel('Time') #X-axis label\n",
    "plt.ylabel('Price') #Y-axis label\n",
    "plt.legend(fontsize=18)"
   ]
  },
  {
   "cell_type": "code",
   "execution_count": 304,
   "metadata": {},
   "outputs": [
    {
     "data": {
      "text/plain": [
       "((3838, 1), (3838,))"
      ]
     },
     "execution_count": 304,
     "metadata": {},
     "output_type": "execute_result"
    }
   ],
   "source": [
    "train_pred.shape, y_train.shape # shape of train and pred"
   ]
  },
  {
   "cell_type": "code",
   "execution_count": 305,
   "metadata": {},
   "outputs": [
    {
     "data": {
      "text/plain": [
       "597.7414907747781"
      ]
     },
     "execution_count": 305,
     "metadata": {},
     "output_type": "execute_result"
    }
   ],
   "source": [
    "import math\n",
    "from sklearn.metrics import mean_squared_error\n",
    "math.sqrt(mean_squared_error(train_pred, y_train))"
   ]
  },
  {
   "cell_type": "code",
   "execution_count": 306,
   "metadata": {},
   "outputs": [
    {
     "data": {
      "text/plain": [
       "177.14338313324922"
      ]
     },
     "execution_count": 306,
     "metadata": {},
     "output_type": "execute_result"
    }
   ],
   "source": [
    "math.sqrt(mean_squared_error(y_fin, df_test['Close'].loc[:203]))# check mean squared error"
   ]
  },
  {
   "cell_type": "code",
   "execution_count": 242,
   "metadata": {
    "scrolled": false
   },
   "outputs": [
    {
     "data": {
      "text/plain": [
       "array([[1.00472791],\n",
       "       [0.99961108],\n",
       "       [1.02519531],\n",
       "       [1.02453188],\n",
       "       [1.0329049 ],\n",
       "       [1.0447324 ],\n",
       "       [1.05228188],\n",
       "       [1.05952631],\n",
       "       [1.05315886],\n",
       "       [1.05950341],\n",
       "       [1.06903556],\n",
       "       [1.0909138 ],\n",
       "       [1.09397172],\n",
       "       [1.09515365],\n",
       "       [1.09568751],\n",
       "       [1.08048177],\n",
       "       [1.05546184],\n",
       "       [1.06969146],\n",
       "       [1.07432023],\n",
       "       [1.07219262],\n",
       "       [1.05571345],\n",
       "       [1.09514602],\n",
       "       [1.06550485],\n",
       "       [1.06638946],\n",
       "       [1.08774147],\n",
       "       [1.09002919],\n",
       "       [1.11248699],\n",
       "       [1.11257086],\n",
       "       [1.11980003],\n",
       "       [1.11704715],\n",
       "       [1.12168356],\n",
       "       [1.12086764],\n",
       "       [1.12622082],\n",
       "       [1.11970852],\n",
       "       [1.09451311],\n",
       "       [1.04607453],\n",
       "       [1.02080289],\n",
       "       [1.02440993],\n",
       "       [0.96714834],\n",
       "       [0.98334536],\n",
       "       [1.02130621],\n",
       "       [0.98491631],\n",
       "       [1.01933118],\n",
       "       [0.96787284],\n",
       "       [0.95214098],\n",
       "       [0.88896192],\n",
       "       [0.93839942],\n",
       "       [0.88884751],\n",
       "       [0.81220904],\n",
       "       [0.89214178],\n",
       "       [0.78888953],\n",
       "       [0.81593803],\n",
       "       [0.79839887],\n",
       "       [0.81249882],\n",
       "       [0.77973104],\n",
       "       [0.76775869],\n",
       "       [0.82711726],\n",
       "       [0.80273786],\n",
       "       [0.84792788],\n",
       "       [0.80900618],\n",
       "       [0.83654264],\n",
       "       [0.84873625],\n",
       "       [0.80512472],\n",
       "       [0.81673104],\n",
       "       [0.79922242],\n",
       "       [0.86712185],\n",
       "       [0.86680917],\n",
       "       [0.88493552],\n",
       "       [0.88582767],\n",
       "       [0.89048706],\n",
       "       [0.92988909],\n",
       "       [0.9247341 ],\n",
       "       [0.92549667],\n",
       "       [0.94058036],\n",
       "       [0.92789116],\n",
       "       [0.88955665],\n",
       "       [0.92529839],\n",
       "       [0.93528816],\n",
       "       [0.93757588],\n",
       "       [0.93496021],\n",
       "       [0.90277208],\n",
       "       [0.98498491],\n",
       "       [0.99046022],\n",
       "       [0.96907004],\n",
       "       [0.97379041],\n",
       "       [0.99232848],\n",
       "       [0.98942313],\n",
       "       [1.00868571],\n",
       "       [1.02074192],\n",
       "       [1.03209662],\n",
       "       [1.01111063],\n",
       "       [0.99097108],\n",
       "       [0.99615661],\n",
       "       [1.00916604],\n",
       "       [1.01736368],\n",
       "       [1.00939103],\n",
       "       [1.03473509],\n",
       "       [1.03174587],\n",
       "       [1.03755667],\n",
       "       [1.04258962],\n",
       "       [1.04321489],\n",
       "       [1.04236845],\n",
       "       [1.05166425],\n",
       "       [1.05387563],\n",
       "       [1.05951868],\n",
       "       [1.057353  ],\n",
       "       [1.0388988 ],\n",
       "       [1.05888578],\n",
       "       [1.0651541 ],\n",
       "       [1.0724367 ],\n",
       "       [1.07982597],\n",
       "       [1.03253888],\n",
       "       [1.03966137],\n",
       "       [1.04474767],\n",
       "       [1.06218768],\n",
       "       [1.0685933 ],\n",
       "       [1.05703269],\n",
       "       [1.05379939],\n",
       "       [1.0691576 ],\n",
       "       [1.07872791],\n",
       "       [1.05399003],\n",
       "       [1.0611277 ],\n",
       "       [0.99903152],\n",
       "       [1.02577487],\n",
       "       [1.03998922],\n",
       "       [1.0586189 ],\n",
       "       [1.078949  ],\n",
       "       [1.10258873],\n",
       "       [1.09456655],\n",
       "       [1.10281753],\n",
       "       [1.11424848],\n",
       "       [1.13769756],\n",
       "       [1.11451536],\n",
       "       [1.12156152],\n",
       "       [1.11626931],\n",
       "       [1.11959412],\n",
       "       [1.11772585],\n",
       "       [1.15598402],\n",
       "       [1.1504173 ],\n",
       "       [1.15809636],\n",
       "       [1.11782499],\n",
       "       [1.11491955],\n",
       "       [1.12889746],\n",
       "       [1.10612707],\n",
       "       [1.12265967],\n",
       "       [1.12985067],\n",
       "       [1.09287357],\n",
       "       [1.08638407],\n",
       "       [1.07915491],\n",
       "       [1.08574354],\n",
       "       [1.10594406],\n",
       "       [1.10166604],\n",
       "       [1.10289377],\n",
       "       [1.09086037],\n",
       "       [1.11091604],\n",
       "       [1.11993724],\n",
       "       [1.11176249],\n",
       "       [1.11957885],\n",
       "       [1.15055452],\n",
       "       [1.14211289],\n",
       "       [1.16820807],\n",
       "       [1.16719389],\n",
       "       [1.17312662],\n",
       "       [1.18839333],\n",
       "       [1.22206853],\n",
       "       [1.20830407],\n",
       "       [1.21599085],\n",
       "       [1.20818976],\n",
       "       [1.22842072],\n",
       "       [1.27994775],\n",
       "       [1.21403099],\n",
       "       [1.1752924 ],\n",
       "       [1.13056754],\n",
       "       [1.14930389],\n",
       "       [1.13028539],\n",
       "       [1.12166829],\n",
       "       [1.12057023],\n",
       "       [1.13746876],\n",
       "       [1.12180559],\n",
       "       [1.10245915],\n",
       "       [1.07535731],\n",
       "       [1.0533724 ],\n",
       "       [1.07952856],\n",
       "       [1.04120932],\n",
       "       [1.05118382],\n",
       "       [1.06389584],\n",
       "       [1.07881179],\n",
       "       [1.08247971],\n",
       "       [1.08268562],\n",
       "       [1.09831071],\n",
       "       [1.07416012],\n",
       "       [1.09520708],\n",
       "       [1.07036243],\n",
       "       [1.07558612],\n",
       "       [1.09513848],\n",
       "       [1.11747414],\n",
       "       [1.15859969],\n",
       "       [1.16052902],\n",
       "       [1.15778368],\n",
       "       [1.1509587 ],\n",
       "       [1.1615432 ],\n",
       "       [1.13226042],\n",
       "       [1.14851851],\n",
       "       [1.17702345],\n",
       "       [1.1938152 ],\n",
       "       [1.21339046],\n",
       "       [1.17484241],\n",
       "       [1.18537357],\n",
       "       [1.11854176],\n",
       "       [1.15714315],\n",
       "       [1.19814665],\n",
       "       [1.20197478],\n",
       "       [1.22041372],\n",
       "       [1.29584736],\n",
       "       [1.30670638],\n",
       "       [1.30547101],\n",
       "       [1.30642423],\n",
       "       [1.28918249],\n",
       "       [1.29857733],\n",
       "       [1.29638876],\n",
       "       [1.3171155 ],\n",
       "       [1.3204403 ],\n",
       "       [1.31187664],\n",
       "       [1.29405533],\n",
       "       [1.30712583],\n",
       "       [1.29055506],\n",
       "       [1.28496544],\n",
       "       [1.31090815],\n",
       "       [1.31285275],\n",
       "       [1.32944623],\n",
       "       [1.30470081],\n",
       "       [1.33319048],\n",
       "       [1.35595324],\n",
       "       [1.35505345],\n",
       "       [1.35598377]])"
      ]
     },
     "execution_count": 242,
     "metadata": {},
     "output_type": "execute_result"
    }
   ],
   "source": [
    "close_test"
   ]
  },
  {
   "cell_type": "code",
   "execution_count": 243,
   "metadata": {},
   "outputs": [
    {
     "data": {
      "text/plain": [
       "(1, 30)"
      ]
     },
     "execution_count": 243,
     "metadata": {},
     "output_type": "execute_result"
    }
   ],
   "source": [
    "prediction_input = close_test[205:].reshape(1,-1) # take the last 30 values from close series and reshape it to feed to the model\n",
    "prediction_input.shape"
   ]
  },
  {
   "cell_type": "code",
   "execution_count": 244,
   "metadata": {},
   "outputs": [],
   "source": [
    "temp_list = list(prediction_input)\n",
    "temp_list = temp_list[0].tolist()"
   ]
  },
  {
   "cell_type": "code",
   "execution_count": 245,
   "metadata": {},
   "outputs": [
    {
     "name": "stdout",
     "output_type": "stream",
     "text": [
      "hey \n",
      "30\n",
      "1 day input [1.17484241 1.18537357 1.11854176 1.15714315 1.19814665 1.20197478\n",
      " 1.22041372 1.29584736 1.30670638 1.30547101 1.30642423 1.28918249\n",
      " 1.29857733 1.29638876 1.3171155  1.3204403  1.31187664 1.29405533\n",
      " 1.30712583 1.29055506 1.28496544 1.31090815 1.31285275 1.32944623\n",
      " 1.30470081 1.33319048 1.35595324 1.35505345 1.35598377 1.3287344 ]\n",
      "1 day output [[1.3148209]]\n",
      "2 day input [1.18537357 1.11854176 1.15714315 1.19814665 1.20197478 1.22041372\n",
      " 1.29584736 1.30670638 1.30547101 1.30642423 1.28918249 1.29857733\n",
      " 1.29638876 1.3171155  1.3204403  1.31187664 1.29405533 1.30712583\n",
      " 1.29055506 1.28496544 1.31090815 1.31285275 1.32944623 1.30470081\n",
      " 1.33319048 1.35595324 1.35505345 1.35598377 1.3287344  1.31482089]\n",
      "2 day output [[1.2945596]]\n",
      "3 day input [1.11854176 1.15714315 1.19814665 1.20197478 1.22041372 1.29584736\n",
      " 1.30670638 1.30547101 1.30642423 1.28918249 1.29857733 1.29638876\n",
      " 1.3171155  1.3204403  1.31187664 1.29405533 1.30712583 1.29055506\n",
      " 1.28496544 1.31090815 1.31285275 1.32944623 1.30470081 1.33319048\n",
      " 1.35595324 1.35505345 1.35598377 1.3287344  1.31482089 1.2945596 ]\n",
      "3 day output [[1.2743564]]\n",
      "4 day input [1.15714315 1.19814665 1.20197478 1.22041372 1.29584736 1.30670638\n",
      " 1.30547101 1.30642423 1.28918249 1.29857733 1.29638876 1.3171155\n",
      " 1.3204403  1.31187664 1.29405533 1.30712583 1.29055506 1.28496544\n",
      " 1.31090815 1.31285275 1.32944623 1.30470081 1.33319048 1.35595324\n",
      " 1.35505345 1.35598377 1.3287344  1.31482089 1.2945596  1.27435637]\n",
      "4 day output [[1.2557365]]\n",
      "5 day input [1.19814665 1.20197478 1.22041372 1.29584736 1.30670638 1.30547101\n",
      " 1.30642423 1.28918249 1.29857733 1.29638876 1.3171155  1.3204403\n",
      " 1.31187664 1.29405533 1.30712583 1.29055506 1.28496544 1.31090815\n",
      " 1.31285275 1.32944623 1.30470081 1.33319048 1.35595324 1.35505345\n",
      " 1.35598377 1.3287344  1.31482089 1.2945596  1.27435637 1.25573647]\n",
      "5 day output [[1.2388884]]\n",
      "6 day input [1.20197478 1.22041372 1.29584736 1.30670638 1.30547101 1.30642423\n",
      " 1.28918249 1.29857733 1.29638876 1.3171155  1.3204403  1.31187664\n",
      " 1.29405533 1.30712583 1.29055506 1.28496544 1.31090815 1.31285275\n",
      " 1.32944623 1.30470081 1.33319048 1.35595324 1.35505345 1.35598377\n",
      " 1.3287344  1.31482089 1.2945596  1.27435637 1.25573647 1.23888838]\n",
      "6 day output [[1.224073]]\n",
      "7 day input [1.22041372 1.29584736 1.30670638 1.30547101 1.30642423 1.28918249\n",
      " 1.29857733 1.29638876 1.3171155  1.3204403  1.31187664 1.29405533\n",
      " 1.30712583 1.29055506 1.28496544 1.31090815 1.31285275 1.32944623\n",
      " 1.30470081 1.33319048 1.35595324 1.35505345 1.35598377 1.3287344\n",
      " 1.31482089 1.2945596  1.27435637 1.25573647 1.23888838 1.22407305]\n",
      "7 day output [[1.2116407]]\n",
      "8 day input [1.29584736 1.30670638 1.30547101 1.30642423 1.28918249 1.29857733\n",
      " 1.29638876 1.3171155  1.3204403  1.31187664 1.29405533 1.30712583\n",
      " 1.29055506 1.28496544 1.31090815 1.31285275 1.32944623 1.30470081\n",
      " 1.33319048 1.35595324 1.35505345 1.35598377 1.3287344  1.31482089\n",
      " 1.2945596  1.27435637 1.25573647 1.23888838 1.22407305 1.21164072]\n",
      "8 day output [[1.2017521]]\n",
      "9 day input [1.30670638 1.30547101 1.30642423 1.28918249 1.29857733 1.29638876\n",
      " 1.3171155  1.3204403  1.31187664 1.29405533 1.30712583 1.29055506\n",
      " 1.28496544 1.31090815 1.31285275 1.32944623 1.30470081 1.33319048\n",
      " 1.35595324 1.35505345 1.35598377 1.3287344  1.31482089 1.2945596\n",
      " 1.27435637 1.25573647 1.23888838 1.22407305 1.21164072 1.20175207]\n",
      "9 day output [[1.1943777]]\n",
      "10 day input [1.30547101 1.30642423 1.28918249 1.29857733 1.29638876 1.3171155\n",
      " 1.3204403  1.31187664 1.29405533 1.30712583 1.29055506 1.28496544\n",
      " 1.31090815 1.31285275 1.32944623 1.30470081 1.33319048 1.35595324\n",
      " 1.35505345 1.35598377 1.3287344  1.31482089 1.2945596  1.27435637\n",
      " 1.25573647 1.23888838 1.22407305 1.21164072 1.20175207 1.19437766]\n",
      "10 day output [[1.1893188]]\n",
      "11 day input [1.30642423 1.28918249 1.29857733 1.29638876 1.3171155  1.3204403\n",
      " 1.31187664 1.29405533 1.30712583 1.29055506 1.28496544 1.31090815\n",
      " 1.31285275 1.32944623 1.30470081 1.33319048 1.35595324 1.35505345\n",
      " 1.35598377 1.3287344  1.31482089 1.2945596  1.27435637 1.25573647\n",
      " 1.23888838 1.22407305 1.21164072 1.20175207 1.19437766 1.18931878]\n",
      "11 day output [[1.1862963]]\n",
      "12 day input [1.28918249 1.29857733 1.29638876 1.3171155  1.3204403  1.31187664\n",
      " 1.29405533 1.30712583 1.29055506 1.28496544 1.31090815 1.31285275\n",
      " 1.32944623 1.30470081 1.33319048 1.35595324 1.35505345 1.35598377\n",
      " 1.3287344  1.31482089 1.2945596  1.27435637 1.25573647 1.23888838\n",
      " 1.22407305 1.21164072 1.20175207 1.19437766 1.18931878 1.18629634]\n",
      "12 day output [[1.1848929]]\n",
      "13 day input [1.29857733 1.29638876 1.3171155  1.3204403  1.31187664 1.29405533\n",
      " 1.30712583 1.29055506 1.28496544 1.31090815 1.31285275 1.32944623\n",
      " 1.30470081 1.33319048 1.35595324 1.35505345 1.35598377 1.3287344\n",
      " 1.31482089 1.2945596  1.27435637 1.25573647 1.23888838 1.22407305\n",
      " 1.21164072 1.20175207 1.19437766 1.18931878 1.18629634 1.18489289]\n",
      "13 day output [[1.1843504]]\n",
      "14 day input [1.29638876 1.3171155  1.3204403  1.31187664 1.29405533 1.30712583\n",
      " 1.29055506 1.28496544 1.31090815 1.31285275 1.32944623 1.30470081\n",
      " 1.33319048 1.35595324 1.35505345 1.35598377 1.3287344  1.31482089\n",
      " 1.2945596  1.27435637 1.25573647 1.23888838 1.22407305 1.21164072\n",
      " 1.20175207 1.19437766 1.18931878 1.18629634 1.18489289 1.18435037]\n",
      "14 day output [[1.1838557]]\n",
      "15 day input [1.3171155  1.3204403  1.31187664 1.29405533 1.30712583 1.29055506\n",
      " 1.28496544 1.31090815 1.31285275 1.32944623 1.30470081 1.33319048\n",
      " 1.35595324 1.35505345 1.35598377 1.3287344  1.31482089 1.2945596\n",
      " 1.27435637 1.25573647 1.23888838 1.22407305 1.21164072 1.20175207\n",
      " 1.19437766 1.18931878 1.18629634 1.18489289 1.18435037 1.18385565]\n",
      "15 day output [[1.1830095]]\n",
      "16 day input [1.3204403  1.31187664 1.29405533 1.30712583 1.29055506 1.28496544\n",
      " 1.31090815 1.31285275 1.32944623 1.30470081 1.33319048 1.35595324\n",
      " 1.35505345 1.35598377 1.3287344  1.31482089 1.2945596  1.27435637\n",
      " 1.25573647 1.23888838 1.22407305 1.21164072 1.20175207 1.19437766\n",
      " 1.18931878 1.18629634 1.18489289 1.18435037 1.18385565 1.18300951]\n",
      "16 day output [[1.1816316]]\n",
      "17 day input [1.31187664 1.29405533 1.30712583 1.29055506 1.28496544 1.31090815\n",
      " 1.31285275 1.32944623 1.30470081 1.33319048 1.35595324 1.35505345\n",
      " 1.35598377 1.3287344  1.31482089 1.2945596  1.27435637 1.25573647\n",
      " 1.23888838 1.22407305 1.21164072 1.20175207 1.19437766 1.18931878\n",
      " 1.18629634 1.18489289 1.18435037 1.18385565 1.18300951 1.18163157]\n",
      "17 day output [[1.179747]]\n",
      "18 day input [1.29405533 1.30712583 1.29055506 1.28496544 1.31090815 1.31285275\n",
      " 1.32944623 1.30470081 1.33319048 1.35595324 1.35505345 1.35598377\n",
      " 1.3287344  1.31482089 1.2945596  1.27435637 1.25573647 1.23888838\n",
      " 1.22407305 1.21164072 1.20175207 1.19437766 1.18931878 1.18629634\n",
      " 1.18489289 1.18435037 1.18385565 1.18300951 1.18163157 1.17974699]\n",
      "18 day output [[1.177447]]\n",
      "19 day input [1.30712583 1.29055506 1.28496544 1.31090815 1.31285275 1.32944623\n",
      " 1.30470081 1.33319048 1.35595324 1.35505345 1.35598377 1.3287344\n",
      " 1.31482089 1.2945596  1.27435637 1.25573647 1.23888838 1.22407305\n",
      " 1.21164072 1.20175207 1.19437766 1.18931878 1.18629634 1.18489289\n",
      " 1.18435037 1.18385565 1.18300951 1.18163157 1.17974699 1.17744696]\n",
      "19 day output [[1.1748152]]\n",
      "20 day input [1.29055506 1.28496544 1.31090815 1.31285275 1.32944623 1.30470081\n",
      " 1.33319048 1.35595324 1.35505345 1.35598377 1.3287344  1.31482089\n",
      " 1.2945596  1.27435637 1.25573647 1.23888838 1.22407305 1.21164072\n",
      " 1.20175207 1.19437766 1.18931878 1.18629634 1.18489289 1.18435037\n",
      " 1.18385565 1.18300951 1.18163157 1.17974699 1.17744696 1.17481518]\n",
      "20 day output [[1.1719604]]\n",
      "21 day input [1.28496544 1.31090815 1.31285275 1.32944623 1.30470081 1.33319048\n",
      " 1.35595324 1.35505345 1.35598377 1.3287344  1.31482089 1.2945596\n",
      " 1.27435637 1.25573647 1.23888838 1.22407305 1.21164072 1.20175207\n",
      " 1.19437766 1.18931878 1.18629634 1.18489289 1.18435037 1.18385565\n",
      " 1.18300951 1.18163157 1.17974699 1.17744696 1.17481518 1.17196035]\n",
      "21 day output [[1.1690397]]\n",
      "22 day input [1.31090815 1.31285275 1.32944623 1.30470081 1.33319048 1.35595324\n",
      " 1.35505345 1.35598377 1.3287344  1.31482089 1.2945596  1.27435637\n",
      " 1.25573647 1.23888838 1.22407305 1.21164072 1.20175207 1.19437766\n",
      " 1.18931878 1.18629634 1.18489289 1.18435037 1.18385565 1.18300951\n",
      " 1.18163157 1.17974699 1.17744696 1.17481518 1.17196035 1.16903973]\n",
      "22 day output [[1.1661365]]\n",
      "23 day input [1.31285275 1.32944623 1.30470081 1.33319048 1.35595324 1.35505345\n",
      " 1.35598377 1.3287344  1.31482089 1.2945596  1.27435637 1.25573647\n",
      " 1.23888838 1.22407305 1.21164072 1.20175207 1.19437766 1.18931878\n",
      " 1.18629634 1.18489289 1.18435037 1.18385565 1.18300951 1.18163157\n",
      " 1.17974699 1.17744696 1.17481518 1.17196035 1.16903973 1.1661365 ]\n",
      "23 day output [[1.1632838]]\n",
      "24 day input [1.32944623 1.30470081 1.33319048 1.35595324 1.35505345 1.35598377\n",
      " 1.3287344  1.31482089 1.2945596  1.27435637 1.25573647 1.23888838\n",
      " 1.22407305 1.21164072 1.20175207 1.19437766 1.18931878 1.18629634\n",
      " 1.18489289 1.18435037 1.18385565 1.18300951 1.18163157 1.17974699\n",
      " 1.17744696 1.17481518 1.17196035 1.16903973 1.1661365  1.16328382]\n",
      "24 day output [[1.1605914]]\n",
      "25 day input [1.30470081 1.33319048 1.35595324 1.35505345 1.35598377 1.3287344\n",
      " 1.31482089 1.2945596  1.27435637 1.25573647 1.23888838 1.22407305\n",
      " 1.21164072 1.20175207 1.19437766 1.18931878 1.18629634 1.18489289\n",
      " 1.18435037 1.18385565 1.18300951 1.18163157 1.17974699 1.17744696\n",
      " 1.17481518 1.17196035 1.16903973 1.1661365  1.16328382 1.16059136]\n",
      "25 day output [[1.1580555]]\n",
      "26 day input [1.33319048 1.35595324 1.35505345 1.35598377 1.3287344  1.31482089\n",
      " 1.2945596  1.27435637 1.25573647 1.23888838 1.22407305 1.21164072\n",
      " 1.20175207 1.19437766 1.18931878 1.18629634 1.18489289 1.18435037\n",
      " 1.18385565 1.18300951 1.18163157 1.17974699 1.17744696 1.17481518\n",
      " 1.17196035 1.16903973 1.1661365  1.16328382 1.16059136 1.15805554]\n"
     ]
    },
    {
     "name": "stdout",
     "output_type": "stream",
     "text": [
      "26 day output [[1.1556484]]\n",
      "27 day input [1.35595324 1.35505345 1.35598377 1.3287344  1.31482089 1.2945596\n",
      " 1.27435637 1.25573647 1.23888838 1.22407305 1.21164072 1.20175207\n",
      " 1.19437766 1.18931878 1.18629634 1.18489289 1.18435037 1.18385565\n",
      " 1.18300951 1.18163157 1.17974699 1.17744696 1.17481518 1.17196035\n",
      " 1.16903973 1.1661365  1.16328382 1.16059136 1.15805554 1.15564835]\n",
      "27 day output [[1.1533824]]\n",
      "28 day input [1.35505345 1.35598377 1.3287344  1.31482089 1.2945596  1.27435637\n",
      " 1.25573647 1.23888838 1.22407305 1.21164072 1.20175207 1.19437766\n",
      " 1.18931878 1.18629634 1.18489289 1.18435037 1.18385565 1.18300951\n",
      " 1.18163157 1.17974699 1.17744696 1.17481518 1.17196035 1.16903973\n",
      " 1.1661365  1.16328382 1.16059136 1.15805554 1.15564835 1.15338242]\n",
      "28 day output [[1.1512327]]\n",
      "29 day input [1.35598377 1.3287344  1.31482089 1.2945596  1.27435637 1.25573647\n",
      " 1.23888838 1.22407305 1.21164072 1.20175207 1.19437766 1.18931878\n",
      " 1.18629634 1.18489289 1.18435037 1.18385565 1.18300951 1.18163157\n",
      " 1.17974699 1.17744696 1.17481518 1.17196035 1.16903973 1.1661365\n",
      " 1.16328382 1.16059136 1.15805554 1.15564835 1.15338242 1.15123272]\n",
      "29 day output [[1.1491754]]\n",
      "[[1.3287343978881836], [1.3148208856582642], [1.2945595979690552], [1.2743563652038574], [1.2557364702224731], [1.2388883829116821], [1.224073052406311], [1.21164071559906], [1.2017520666122437], [1.1943776607513428], [1.1893187761306763], [1.1862963438034058], [1.1848928928375244], [1.1843503713607788], [1.183855652809143], [1.1830095052719116], [1.1816315650939941], [1.1797469854354858], [1.177446961402893], [1.1748151779174805], [1.1719603538513184], [1.1690397262573242], [1.1661365032196045], [1.1632838249206543], [1.1605913639068604], [1.1580555438995361], [1.1556483507156372], [1.153382420539856], [1.1512327194213867], [1.1491754055023193]]\n"
     ]
    }
   ],
   "source": [
    "from numpy import array\n",
    "\n",
    "lst_output=[] #Initialze empty list, this list will contain the future predicted prices\n",
    "n_steps=30 #Number of taken in account\n",
    "i=0\n",
    "\n",
    "\n",
    "while(i<30): #Number of days we have to predict for \n",
    "    \n",
    "    if(len(temp_list)>30):\n",
    "        prediction_input=np.array(temp_list[1:]) # Take all values from temp list excluding the first one\n",
    "        print(\"{} day input {}\".format(i,prediction_input))\n",
    "        prediction_input=prediction_input.reshape(1,-1) # Reshape predicted_input which will always have 30 values so that it can be fed to the model\n",
    "        prediction_input = prediction_input.reshape((1, n_steps, 1)) # Reshape input with respect to n-steps \n",
    "        yhat = model.predict(prediction_input, verbose=0) # Predict values based on prediction_input\n",
    "        print(\"{} day output {}\".format(i,yhat))\n",
    "        temp_list.extend(yhat[0].tolist()) # Add predicted value to temp_list\n",
    "        temp_list=temp_list[1:] #Update temp_list by remocing the first value\n",
    "        lst_output.extend(yhat.tolist()) #Append predicted value yhat to lst_output\n",
    "        i+=1\n",
    "        pass\n",
    "        \n",
    "        \n",
    "    else: #Enters Else only for day 0\n",
    "        prediction_input = prediction_input.reshape((1, n_steps,1)) # Reshape input with respect to n-steps \n",
    "        yhat = model.predict(prediction_input, verbose=0) # Predict values based on prediction_input\n",
    "        temp_list.extend(yhat[0].tolist()) # Add predicted value to temp_list\n",
    "        lst_output.extend(yhat.tolist()) #Append predicted value yhat to lst_output\n",
    "        i+=1\n",
    "       \n",
    "    \n",
    "\n",
    "print(lst_output)"
   ]
  },
  {
   "cell_type": "code",
   "execution_count": 246,
   "metadata": {},
   "outputs": [
    {
     "data": {
      "text/plain": [
       "array([[1792.2564805 ],\n",
       "       [1774.01097153],\n",
       "       [1747.44129593],\n",
       "       [1720.94775077],\n",
       "       [1696.53051841],\n",
       "       [1674.4367492 ],\n",
       "       [1655.00863923],\n",
       "       [1638.70547227],\n",
       "       [1625.73797486],\n",
       "       [1616.06753464],\n",
       "       [1609.43355731],\n",
       "       [1605.47008531],\n",
       "       [1603.62966739],\n",
       "       [1602.91823089],\n",
       "       [1602.26948084],\n",
       "       [1601.15988376],\n",
       "       [1599.35291946],\n",
       "       [1596.88157258],\n",
       "       [1593.86543198],\n",
       "       [1590.41423803],\n",
       "       [1586.67055942],\n",
       "       [1582.84058924],\n",
       "       [1579.03344256],\n",
       "       [1575.2925778 ],\n",
       "       [1571.76181427],\n",
       "       [1568.4364622 ],\n",
       "       [1565.27978514],\n",
       "       [1562.30835358],\n",
       "       [1559.4893392 ],\n",
       "       [1556.79147694]])"
      ]
     },
     "execution_count": 246,
     "metadata": {},
     "output_type": "execute_result"
    }
   ],
   "source": [
    "scaler_two.inverse_transform(lst_output) #transform the lst_output from 0/1 to price range\n"
   ]
  },
  {
   "cell_type": "code",
   "execution_count": 256,
   "metadata": {},
   "outputs": [],
   "source": [
    "day_new = np.arange(1, 237) #arrange placeholders for original close prices\n",
    "day_pred = np.arange(237, 267) #arrange placeholders for future 30-day prices"
   ]
  },
  {
   "cell_type": "code",
   "execution_count": 310,
   "metadata": {
    "scrolled": false
   },
   "outputs": [
    {
     "name": "stdout",
     "output_type": "stream",
     "text": [
      "265\n"
     ]
    },
    {
     "data": {
      "text/plain": [
       "<matplotlib.legend.Legend at 0x1a4ab24ef0>"
      ]
     },
     "execution_count": 310,
     "metadata": {},
     "output_type": "execute_result"
    },
    {
     "data": {
      "image/png": "[encoded data removed]",
      "text/plain": [
       "<Figure size 1008x360 with 1 Axes>"
      ]
     },
     "metadata": {
      "needs_background": "light"
     },
     "output_type": "display_data"
    }
   ],
   "source": [
    "print(len(df_test['Close']))\n",
    "plt.figure(figsize = (14, 5))\n",
    "plt.plot(day_new, df_test['Close'].loc[:235], color='r', label='Google Close Price') #Plot close prices\n",
    "plt.plot(day_pred, scaler_two.inverse_transform(lst_output) , color='g', label='Future Google Stock Price') #plot predicted future prices\n",
    "plt.plot(y_fin, color='b', label='Predicted Google Price M2') # Plot form model 1\n",
    "plt.plot(y_pred, color='orange', label='Predicted Google Price M1') # Plot from model 2\n",
    "\n",
    "\n",
    "\n",
    "plt.xlabel('Time')\n",
    "plt.ylabel('Price')\n",
    "plt.legend(fontsize=18)"
   ]
  },
  {
   "cell_type": "code",
   "execution_count": 276,
   "metadata": {},
   "outputs": [
    {
     "data": {
      "text/plain": [
       "(1445.3515634226414, 1255.4004, 1448.1528)"
      ]
     },
     "execution_count": 276,
     "metadata": {},
     "output_type": "execute_result"
    }
   ],
   "source": [
    "np.mean(df_test['Close']), np.mean(y_pred), np.mean(y_fin) #summary of predicted values "
   ]
  },
  {
   "cell_type": "markdown",
   "metadata": {},
   "source": [
    "# Conclusion\n"
   ]
  },
  {
   "cell_type": "markdown",
   "metadata": {},
   "source": [
    "In the above graph, you can see four lines. The red line is the original close price of the test dataset, the orange line is the output values from LSTM model I, the blue line is the predicted output from LSTM model II, the small green line is the output from following the algorithm for predicting the future prices and represents the 30-day prices in the future.\n",
    "\n",
    "This graph is very interesting, as it is evident that outputs from both the models show a rising trend over a course of 235 days which falls in tandem with the original close price. It would have been a good decision to enter the market from day 0 to day 75, in fact, LSTM model I does a better job in predicting and generalizing the long term trend, and LSTM model II does a better job in predicting prices. This could be the result of including the dropout layer in the first model and omitting them from the second model. \n",
    "\n",
    "The predicted prices of the first few days are 1792.25, 1774.01, 1747.44, 1720.94, 1696.53, 1674.43 in the future the current price of google as of writing this report is 1781.7 which is a very nice prediction considering the simplicity of the models in predicting stock."
   ]
  },
  {
   "cell_type": "code",
   "execution_count": null,
   "metadata": {},
   "outputs": [],
   "source": []
  }
 ],
 "metadata": {
  "kernelspec": {
   "display_name": "Python 3",
   "language": "python",
   "name": "python3"
  },
  "language_info": {
   "codemirror_mode": {
    "name": "ipython",
    "version": 3
   },
   "file_extension": ".py",
   "mimetype": "text/x-python",
   "name": "python",
   "nbconvert_exporter": "python",
   "pygments_lexer": "ipython3",
   "version": "3.7.1"
  }
 },
 "nbformat": 4,
 "nbformat_minor": 2
}
